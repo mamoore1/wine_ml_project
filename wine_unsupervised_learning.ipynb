{
 "cells": [
  {
   "cell_type": "markdown",
   "metadata": {},
   "source": [
    "I am using the \"Wine\" dataset found in sklearn.datasets to practice using the K-Mean Clustering method. Although, from the dataset, we know that there are three varieties of wine being detected, I will use the elbow method and the silhouette score to look for the optimum number of clusters."
   ]
  },
  {
   "cell_type": "code",
   "execution_count": 47,
   "metadata": {},
   "outputs": [
    {
     "name": "stdout",
     "output_type": "stream",
     "text": [
      "   alcohol  malic_acid   ash  alcalinity_of_ash  magnesium  total_phenols  \\\n",
      "0    14.23        1.71  2.43               15.6      127.0           2.80   \n",
      "1    13.20        1.78  2.14               11.2      100.0           2.65   \n",
      "2    13.16        2.36  2.67               18.6      101.0           2.80   \n",
      "3    14.37        1.95  2.50               16.8      113.0           3.85   \n",
      "4    13.24        2.59  2.87               21.0      118.0           2.80   \n",
      "\n",
      "   flavanoids  nonflavanoid_phenols  proanthocyanins  color_intensity   hue  \\\n",
      "0        3.06                  0.28             2.29             5.64  1.04   \n",
      "1        2.76                  0.26             1.28             4.38  1.05   \n",
      "2        3.24                  0.30             2.81             5.68  1.03   \n",
      "3        3.49                  0.24             2.18             7.80  0.86   \n",
      "4        2.69                  0.39             1.82             4.32  1.04   \n",
      "\n",
      "   od280/od315_of_diluted_wines  proline  \n",
      "0                          3.92   1065.0  \n",
      "1                          3.40   1050.0  \n",
      "2                          3.17   1185.0  \n",
      "3                          3.45   1480.0  \n",
      "4                          2.93    735.0  \n"
     ]
    }
   ],
   "source": [
    "import numpy as np #general use\n",
    "import pandas as pd #dataset manipulation\n",
    "from sklearn.datasets import load_wine \n",
    "from sklearn.cluster import KMeans\n",
    "from sklearn.metrics import silhouette_score\n",
    "from sklearn.preprocessing import StandardScaler # Data standardisation\n",
    "from matplotlib import pyplot as plt\n",
    "\n",
    "# Loading wine data\n",
    "wine_df = load_wine(as_frame=True)\n",
    "\n",
    "# Separating data into features and target\n",
    "wine_features = wine_df.data\n",
    "wine_target = wine_df.target\n",
    "\n",
    "#examining data\n",
    "print(wine_features.head())"
   ]
  },
  {
   "cell_type": "markdown",
   "metadata": {},
   "source": [
    "As all of the columns contain numerical values, there is not too much transformation for us to carry out. First I check for null values, then I standardise the data."
   ]
  },
  {
   "cell_type": "code",
   "execution_count": 48,
   "metadata": {},
   "outputs": [
    {
     "name": "stdout",
     "output_type": "stream",
     "text": [
      "alcohol                         0\n",
      "malic_acid                      0\n",
      "ash                             0\n",
      "alcalinity_of_ash               0\n",
      "magnesium                       0\n",
      "total_phenols                   0\n",
      "flavanoids                      0\n",
      "nonflavanoid_phenols            0\n",
      "proanthocyanins                 0\n",
      "color_intensity                 0\n",
      "hue                             0\n",
      "od280/od315_of_diluted_wines    0\n",
      "proline                         0\n",
      "dtype: int64\n",
      "          0         1         2         3         4         5         6  \\\n",
      "0  1.518613 -0.562250  0.232053 -1.169593  1.913905  0.808997  1.034819   \n",
      "1  0.246290 -0.499413 -0.827996 -2.490847  0.018145  0.568648  0.733629   \n",
      "2  0.196879  0.021231  1.109334 -0.268738  0.088358  0.808997  1.215533   \n",
      "3  1.691550 -0.346811  0.487926 -0.809251  0.930918  2.491446  1.466525   \n",
      "4  0.295700  0.227694  1.840403  0.451946  1.281985  0.808997  0.663351   \n",
      "\n",
      "          7         8         9        10        11        12  \n",
      "0 -0.659563  1.224884  0.251717  0.362177  1.847920  1.013009  \n",
      "1 -0.820719 -0.544721 -0.293321  0.406051  1.113449  0.965242  \n",
      "2 -0.498407  2.135968  0.269020  0.318304  0.788587  1.395148  \n",
      "3 -0.981875  1.032155  1.186068 -0.427544  1.184071  2.334574  \n",
      "4  0.226796  0.401404 -0.319276  0.362177  0.449601 -0.037874  \n"
     ]
    }
   ],
   "source": [
    "print(wine_features.isnull().sum())\n",
    "\n",
    "# No null values found, standardising data using StandardScaler\n",
    "\n",
    "scaler = StandardScaler()\n",
    "\n",
    "scaled_features = pd.DataFrame(scaler.fit_transform(wine_features))\n",
    "\n",
    "print(scaled_features.head())"
   ]
  },
  {
   "cell_type": "code",
   "execution_count": 49,
   "metadata": {},
   "outputs": [
    {
     "name": "stdout",
     "output_type": "stream",
     "text": [
      "[356.00000000000034, 316.6191491283382, 201.06211362842848, 186.29459491561605, 173.69453641181823, 197.99424626109905, 172.9553231107045, 163.33191512504408, 155.77367149747792, 158.75486207134995]\n"
     ]
    },
    {
     "data": {
      "image/png": "[encoded data removed]",
      "text/plain": [
       "<Figure size 432x288 with 1 Axes>"
      ]
     },
     "metadata": {
      "needs_background": "light"
     },
     "output_type": "display_data"
    }
   ],
   "source": [
    "# Using elbow method to look for optimal value of k\n",
    "\n",
    "# Calculating the Within-Cluster-Sum of Squared Errors\n",
    "\n",
    "sse = []\n",
    "for k in range(1, 11):\n",
    "    # Generate centroids and predict labels\n",
    "    model = KMeans(n_clusters=k)\n",
    "    model.fit(scaled_features)\n",
    "    centroids = model.cluster_centers_\n",
    "    pred_clusters = model.predict(scaled_features)\n",
    "    curr_sse = 0\n",
    "    \n",
    "    # Calculate square of distance and add to current sum of squared errors\n",
    "    for i in range(len(scaled_features)):\n",
    "        curr_center = centroids[pred_clusters[i]]\n",
    "        curr_sse += (scaled_features.iloc[i, 0] - curr_center[0]) ** 2 + (scaled_features.iloc[i, 1] - curr_center[1]) ** 2 \n",
    "    \n",
    "    sse.append(curr_sse)\n",
    "\n",
    "print(sse)\n",
    "\n",
    "plt.plot(range(1, 11), sse)\n",
    "plt.xlabel('k')\n",
    "plt.ylabel('Within-Cluster-Sum of Squared Errors')\n",
    "plt.show()\n"
   ]
  },
  {
   "cell_type": "markdown",
   "metadata": {},
   "source": [
    "We see the elbow at k=3, which matches the information we have about the data."
   ]
  },
  {
   "cell_type": "code",
   "execution_count": 50,
   "metadata": {},
   "outputs": [
    {
     "data": {
      "image/png": "[encoded data removed]",
      "text/plain": [
       "<Figure size 432x576 with 1 Axes>"
      ]
     },
     "metadata": {
      "needs_background": "light"
     },
     "output_type": "display_data"
    }
   ],
   "source": [
    "# Using silhouette scores to look for the optimal value of \"k\"\n",
    "\n",
    "sil_scores = []\n",
    "\n",
    "for k in range(2, 11):\n",
    "    model = KMeans(n_clusters=k)\n",
    "    model.fit(scaled_features)\n",
    "    labels = model.labels_\n",
    "    sil_scores.append(silhouette_score(scaled_features, labels))\n",
    "\n",
    "plt.figure(figsize=(6, 8))\n",
    "plt.plot(range(2, 11), sil_scores)\n",
    "plt.xlabel('k')\n",
    "plt.ylabel('silhouette score')\n",
    "plt.show()\n"
   ]
  },
  {
   "cell_type": "markdown",
   "metadata": {},
   "source": [
    "We can see that we get the highest silhouette score when k=3, which matches with the actual number of cultivars. However, the silhouette score seems very low."
   ]
  },
  {
   "cell_type": "code",
   "execution_count": 51,
   "metadata": {},
   "outputs": [
    {
     "name": "stdout",
     "output_type": "stream",
     "text": [
      "0.2848589191898987\n"
     ]
    }
   ],
   "source": [
    "wine_k_model = KMeans(n_clusters=3)\n",
    "wine_k_model.fit(scaled_features)\n",
    "wine_labels = wine_k_model.labels_\n",
    "\n",
    "print(silhouette_score(scaled_features, wine_labels))\n",
    "\n"
   ]
  },
  {
   "cell_type": "code",
   "execution_count": null,
   "metadata": {},
   "outputs": [],
   "source": []
  }
 ],
 "metadata": {
  "kernelspec": {
   "display_name": "Python 3",
   "language": "python",
   "name": "python3"
  },
  "language_info": {
   "codemirror_mode": {
    "name": "ipython",
    "version": 3
   },
   "file_extension": ".py",
   "mimetype": "text/x-python",
   "name": "python",
   "nbconvert_exporter": "python",
   "pygments_lexer": "ipython3",
   "version": "3.7.6"
  }
 },
 "nbformat": 4,
 "nbformat_minor": 4
}
